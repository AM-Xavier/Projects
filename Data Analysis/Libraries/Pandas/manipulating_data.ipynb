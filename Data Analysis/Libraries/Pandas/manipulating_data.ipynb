{
 "cells": [
  {
   "cell_type": "code",
   "execution_count": null,
   "id": "0551083f",
   "metadata": {},
   "outputs": [],
   "source": [
    "import pandas as pd"
   ]
  },
  {
   "cell_type": "code",
   "execution_count": null,
   "id": "f3db9914",
   "metadata": {},
   "outputs": [],
   "source": [
    "df = pd.DataFrame({\n",
    "    'name': ['Robert', 'Felicia', 'Diana'],\n",
    "    'age': [22, 34, 27],\n",
    "    'occupation': ['Designer', 'Programmer', 'Data Scientist']\n",
    "})"
   ]
  },
  {
   "cell_type": "code",
   "execution_count": null,
   "id": "7432bbd2",
   "metadata": {},
   "outputs": [],
   "source": [
    "df.age ** 2 # you can manipulate data from specific columns"
   ]
  },
  {
   "cell_type": "code",
   "execution_count": null,
   "id": "c1af7b92",
   "metadata": {},
   "outputs": [],
   "source": [
    "def manipulating_ages(x): # you can also create functions to manipulate data \n",
    "    if x % 3 == 0:\n",
    "        return x ** 1\n",
    "    else:\n",
    "        return x // 10"
   ]
  },
  {
   "cell_type": "code",
   "execution_count": null,
   "id": "9e89925c",
   "metadata": {},
   "outputs": [],
   "source": [
    "df.age.apply(manipulating_ages)"
   ]
  },
  {
   "cell_type": "code",
   "execution_count": null,
   "id": "f6b85fa0",
   "metadata": {},
   "outputs": [],
   "source": [
    "def manipulating_jobs(x): # even in columns that doesn't contain any numbers\n",
    "    if x.endswith('r'):\n",
    "        return 'Unemployed'\n",
    "    else:\n",
    "        return x"
   ]
  },
  {
   "cell_type": "code",
   "execution_count": null,
   "id": "5bfab783",
   "metadata": {},
   "outputs": [],
   "source": [
    "df.occupation.apply(manipulating_jobs)"
   ]
  },
  {
   "cell_type": "code",
   "execution_count": null,
   "id": "5ca80e51",
   "metadata": {},
   "outputs": [],
   "source": [
    "df.occupation = df.occupation.apply(manipulating_jobs)\n",
    "df"
   ]
  },
  {
   "cell_type": "code",
   "execution_count": null,
   "id": "22898bd2",
   "metadata": {},
   "outputs": [],
   "source": [
    "df.age.apply(lambda x: x ** 2 if x % 10 == 0 else x // 2) # another way of manipulating data is by using lambda expressions for simpler functions"
   ]
  },
  {
   "cell_type": "code",
   "execution_count": null,
   "id": "d6c72f2e",
   "metadata": {},
   "outputs": [],
   "source": [
    "# for creating new columns, you can also use a lambda expression or create a function for it \n",
    "df['summary'] = df.apply(lambda row: f'Age: {row[\"age\"]}, Occupation: {row[\"occupation\"]}', axis=1)\n",
    "df"
   ]
  },
  {
   "cell_type": "code",
   "execution_count": null,
   "id": "01217e79",
   "metadata": {},
   "outputs": [],
   "source": [
    "df = df.drop('Summary', axis=1) # this command will delete entire columns from the data frame\n",
    "df"
   ]
  }
 ],
 "metadata": {
  "kernelspec": {
   "display_name": "Python 3",
   "language": "python",
   "name": "python3"
  },
  "language_info": {
   "codemirror_mode": {
    "name": "ipython",
    "version": 3
   },
   "file_extension": ".py",
   "mimetype": "text/x-python",
   "name": "python",
   "nbconvert_exporter": "python",
   "pygments_lexer": "ipython3",
   "version": "3.13.2"
  }
 },
 "nbformat": 4,
 "nbformat_minor": 5
}
