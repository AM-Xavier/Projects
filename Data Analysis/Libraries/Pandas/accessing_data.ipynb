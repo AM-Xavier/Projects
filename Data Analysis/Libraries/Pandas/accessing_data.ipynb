{
 "cells": [
  {
   "cell_type": "code",
   "execution_count": null,
   "id": "cbae5e95",
   "metadata": {},
   "outputs": [],
   "source": [
    "import pandas as pd"
   ]
  },
  {
   "cell_type": "code",
   "execution_count": null,
   "id": "4d72539d",
   "metadata": {},
   "outputs": [],
   "source": [
    "df = pd.DataFrame({\n",
    "    'name': ['Robert', 'Felicia', 'Diana'],\n",
    "    'age': [22, 34, 27],\n",
    "    'occupation': ['Designer', 'Programmer', 'Data Scientist']\n",
    "})"
   ]
  },
  {
   "cell_type": "code",
   "execution_count": null,
   "id": "b0316ff7",
   "metadata": {},
   "outputs": [],
   "source": [
    "df"
   ]
  },
  {
   "cell_type": "code",
   "execution_count": null,
   "id": "a8a5a83b",
   "metadata": {},
   "outputs": [],
   "source": [
    "df.loc[0] # this can be used to locate a specific row from the data frame"
   ]
  },
  {
   "cell_type": "code",
   "execution_count": null,
   "id": "001e5960",
   "metadata": {},
   "outputs": [],
   "source": [
    "df = df.set_index('name')"
   ]
  },
  {
   "cell_type": "code",
   "execution_count": null,
   "id": "2015c6bd",
   "metadata": {},
   "outputs": [],
   "source": [
    "df.loc['Diana'] # you can also use it to locate specific values"
   ]
  },
  {
   "cell_type": "code",
   "execution_count": null,
   "id": "44b41940",
   "metadata": {},
   "outputs": [],
   "source": [
    "df.iloc[0] # this can also be used to locate a specific row from the data frame, but it uses an integer"
   ]
  },
  {
   "cell_type": "code",
   "execution_count": null,
   "id": "634a734e",
   "metadata": {},
   "outputs": [],
   "source": [
    "df.loc['Robert', 'age'] "
   ]
  },
  {
   "cell_type": "code",
   "execution_count": null,
   "id": "57d4d4c4",
   "metadata": {},
   "outputs": [],
   "source": [
    "df.iloc[0, 0]"
   ]
  },
  {
   "cell_type": "code",
   "execution_count": null,
   "id": "eff53396",
   "metadata": {},
   "outputs": [],
   "source": [
    "df.at['Diana', 'age'] # at and iat is used to find only specific values, \n",
    "                      # it can't process an entire row"
   ]
  },
  {
   "cell_type": "code",
   "execution_count": null,
   "id": "a33519e6",
   "metadata": {},
   "outputs": [],
   "source": [
    "df.iat[2, 0] # this works the same as iloc"
   ]
  },
  {
   "cell_type": "code",
   "execution_count": 23,
   "id": "6b931de5",
   "metadata": {},
   "outputs": [
    {
     "data": {
      "text/plain": [
       "np.int64(28)"
      ]
     },
     "execution_count": 23,
     "metadata": {},
     "output_type": "execute_result"
    }
   ],
   "source": [
    "df.at['Diana', 'age'] = [28] # it can also be used to change values inside the data frame\n",
    "df.at['Diana', 'age']"
   ]
  },
  {
   "cell_type": "code",
   "execution_count": null,
   "id": "22dad893",
   "metadata": {},
   "outputs": [],
   "source": [
    "df.loc['Felicia'] = [35, 'Senior Developer']\n",
    "df"
   ]
  },
  {
   "cell_type": "code",
   "execution_count": null,
   "id": "4db002b0",
   "metadata": {},
   "outputs": [],
   "source": [
    "df.loc['Jim'] = [26, 'Manager'] # this can also be used for adding data\n",
    "df"
   ]
  }
 ],
 "metadata": {
  "kernelspec": {
   "display_name": "Python 3",
   "language": "python",
   "name": "python3"
  },
  "language_info": {
   "codemirror_mode": {
    "name": "ipython",
    "version": 3
   },
   "file_extension": ".py",
   "mimetype": "text/x-python",
   "name": "python",
   "nbconvert_exporter": "python",
   "pygments_lexer": "ipython3",
   "version": "3.13.2"
  }
 },
 "nbformat": 4,
 "nbformat_minor": 5
}
