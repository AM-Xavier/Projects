{
 "cells": [
  {
   "cell_type": "code",
   "execution_count": 2,
   "id": "38c46a8c",
   "metadata": {},
   "outputs": [],
   "source": [
    "import pandas as pd"
   ]
  },
  {
   "cell_type": "code",
   "execution_count": 3,
   "id": "7bd74557",
   "metadata": {},
   "outputs": [
    {
     "data": {
      "text/html": [
       "<div>\n",
       "<style scoped>\n",
       "    .dataframe tbody tr th:only-of-type {\n",
       "        vertical-align: middle;\n",
       "    }\n",
       "\n",
       "    .dataframe tbody tr th {\n",
       "        vertical-align: top;\n",
       "    }\n",
       "\n",
       "    .dataframe thead th {\n",
       "        text-align: right;\n",
       "    }\n",
       "</style>\n",
       "<table border=\"1\" class=\"dataframe\">\n",
       "  <thead>\n",
       "    <tr style=\"text-align: right;\">\n",
       "      <th></th>\n",
       "      <th>age</th>\n",
       "      <th>occupation</th>\n",
       "      <th>summary</th>\n",
       "    </tr>\n",
       "    <tr>\n",
       "      <th>name</th>\n",
       "      <th></th>\n",
       "      <th></th>\n",
       "      <th></th>\n",
       "    </tr>\n",
       "  </thead>\n",
       "  <tbody>\n",
       "    <tr>\n",
       "      <th>Robert</th>\n",
       "      <td>22</td>\n",
       "      <td>Designer</td>\n",
       "      <td>Age: 22, Occupation: Designer</td>\n",
       "    </tr>\n",
       "    <tr>\n",
       "      <th>Felicia</th>\n",
       "      <td>34</td>\n",
       "      <td>Programmer</td>\n",
       "      <td>Age: 34, Occupation: Programmer</td>\n",
       "    </tr>\n",
       "    <tr>\n",
       "      <th>Diana</th>\n",
       "      <td>27</td>\n",
       "      <td>Data Scientist</td>\n",
       "      <td>Age: 27, Occupation: Data Scientist</td>\n",
       "    </tr>\n",
       "  </tbody>\n",
       "</table>\n",
       "</div>"
      ],
      "text/plain": [
       "         age      occupation                              summary\n",
       "name                                                             \n",
       "Robert    22        Designer        Age: 22, Occupation: Designer\n",
       "Felicia   34      Programmer      Age: 34, Occupation: Programmer\n",
       "Diana     27  Data Scientist  Age: 27, Occupation: Data Scientist"
      ]
     },
     "execution_count": 3,
     "metadata": {},
     "output_type": "execute_result"
    }
   ],
   "source": [
    "df = pd.DataFrame({\n",
    "    'name': ['Robert', 'Felicia', 'Diana'],\n",
    "    'age': [22, 34, 27],\n",
    "    'occupation': ['Designer', 'Programmer', 'Data Scientist']\n",
    "})\n",
    "\n",
    "df = df.set_index('name')\n",
    "df['summary'] = df.apply(lambda row: f'Age: {row[\"age\"]}, Occupation: {row[\"occupation\"]}', axis=1)\n",
    "df"
   ]
  },
  {
   "cell_type": "code",
   "execution_count": 4,
   "id": "49b9438c",
   "metadata": {},
   "outputs": [
    {
     "data": {
      "text/html": [
       "<div>\n",
       "<style scoped>\n",
       "    .dataframe tbody tr th:only-of-type {\n",
       "        vertical-align: middle;\n",
       "    }\n",
       "\n",
       "    .dataframe tbody tr th {\n",
       "        vertical-align: top;\n",
       "    }\n",
       "\n",
       "    .dataframe thead th {\n",
       "        text-align: right;\n",
       "    }\n",
       "</style>\n",
       "<table border=\"1\" class=\"dataframe\">\n",
       "  <thead>\n",
       "    <tr style=\"text-align: right;\">\n",
       "      <th></th>\n",
       "      <th>age</th>\n",
       "      <th>occupation</th>\n",
       "      <th>summary</th>\n",
       "    </tr>\n",
       "    <tr>\n",
       "      <th>name</th>\n",
       "      <th></th>\n",
       "      <th></th>\n",
       "      <th></th>\n",
       "    </tr>\n",
       "  </thead>\n",
       "  <tbody>\n",
       "    <tr>\n",
       "      <th>Robert</th>\n",
       "      <td>22</td>\n",
       "      <td>Designer</td>\n",
       "      <td>Age: 22, Occupation: Designer</td>\n",
       "    </tr>\n",
       "    <tr>\n",
       "      <th>Felicia</th>\n",
       "      <td>34</td>\n",
       "      <td>Programmer</td>\n",
       "      <td>Age: 34, Occupation: Programmer</td>\n",
       "    </tr>\n",
       "    <tr>\n",
       "      <th>Diana</th>\n",
       "      <td>27</td>\n",
       "      <td>Data Scientist</td>\n",
       "      <td>Age: 27, Occupation: Data Scientist</td>\n",
       "    </tr>\n",
       "    <tr>\n",
       "      <th>Jim</th>\n",
       "      <td>None</td>\n",
       "      <td>None</td>\n",
       "      <td>None</td>\n",
       "    </tr>\n",
       "  </tbody>\n",
       "</table>\n",
       "</div>"
      ],
      "text/plain": [
       "          age      occupation                              summary\n",
       "name                                                              \n",
       "Robert     22        Designer        Age: 22, Occupation: Designer\n",
       "Felicia    34      Programmer      Age: 34, Occupation: Programmer\n",
       "Diana      27  Data Scientist  Age: 27, Occupation: Data Scientist\n",
       "Jim      None            None                                 None"
      ]
     },
     "execution_count": 4,
     "metadata": {},
     "output_type": "execute_result"
    }
   ],
   "source": [
    "df.loc['Jim'] = [None, None, None]\n",
    "df"
   ]
  },
  {
   "cell_type": "code",
   "execution_count": 5,
   "id": "7857d052",
   "metadata": {},
   "outputs": [
    {
     "data": {
      "text/plain": [
       "name\n",
       "Robert     False\n",
       "Felicia     True\n",
       "Diana      False\n",
       "Jim        False\n",
       "Name: age, dtype: bool"
      ]
     },
     "execution_count": 5,
     "metadata": {},
     "output_type": "execute_result"
    }
   ],
   "source": [
    "df.age > 30 # you can filter data by using boolean operators"
   ]
  },
  {
   "cell_type": "code",
   "execution_count": 6,
   "id": "bb171941",
   "metadata": {},
   "outputs": [
    {
     "data": {
      "text/html": [
       "<div>\n",
       "<style scoped>\n",
       "    .dataframe tbody tr th:only-of-type {\n",
       "        vertical-align: middle;\n",
       "    }\n",
       "\n",
       "    .dataframe tbody tr th {\n",
       "        vertical-align: top;\n",
       "    }\n",
       "\n",
       "    .dataframe thead th {\n",
       "        text-align: right;\n",
       "    }\n",
       "</style>\n",
       "<table border=\"1\" class=\"dataframe\">\n",
       "  <thead>\n",
       "    <tr style=\"text-align: right;\">\n",
       "      <th></th>\n",
       "      <th>age</th>\n",
       "      <th>occupation</th>\n",
       "      <th>summary</th>\n",
       "    </tr>\n",
       "    <tr>\n",
       "      <th>name</th>\n",
       "      <th></th>\n",
       "      <th></th>\n",
       "      <th></th>\n",
       "    </tr>\n",
       "  </thead>\n",
       "  <tbody>\n",
       "    <tr>\n",
       "      <th>Felicia</th>\n",
       "      <td>34</td>\n",
       "      <td>Programmer</td>\n",
       "      <td>Age: 34, Occupation: Programmer</td>\n",
       "    </tr>\n",
       "  </tbody>\n",
       "</table>\n",
       "</div>"
      ],
      "text/plain": [
       "        age  occupation                          summary\n",
       "name                                                    \n",
       "Felicia  34  Programmer  Age: 34, Occupation: Programmer"
      ]
     },
     "execution_count": 6,
     "metadata": {},
     "output_type": "execute_result"
    }
   ],
   "source": [
    "df[[False, True, False, False]] # and use them to show only the filtered data "
   ]
  },
  {
   "cell_type": "code",
   "execution_count": 7,
   "id": "49596a3e",
   "metadata": {},
   "outputs": [
    {
     "data": {
      "text/html": [
       "<div>\n",
       "<style scoped>\n",
       "    .dataframe tbody tr th:only-of-type {\n",
       "        vertical-align: middle;\n",
       "    }\n",
       "\n",
       "    .dataframe tbody tr th {\n",
       "        vertical-align: top;\n",
       "    }\n",
       "\n",
       "    .dataframe thead th {\n",
       "        text-align: right;\n",
       "    }\n",
       "</style>\n",
       "<table border=\"1\" class=\"dataframe\">\n",
       "  <thead>\n",
       "    <tr style=\"text-align: right;\">\n",
       "      <th></th>\n",
       "      <th>age</th>\n",
       "      <th>occupation</th>\n",
       "      <th>summary</th>\n",
       "    </tr>\n",
       "    <tr>\n",
       "      <th>name</th>\n",
       "      <th></th>\n",
       "      <th></th>\n",
       "      <th></th>\n",
       "    </tr>\n",
       "  </thead>\n",
       "  <tbody>\n",
       "    <tr>\n",
       "      <th>Felicia</th>\n",
       "      <td>34</td>\n",
       "      <td>Programmer</td>\n",
       "      <td>Age: 34, Occupation: Programmer</td>\n",
       "    </tr>\n",
       "  </tbody>\n",
       "</table>\n",
       "</div>"
      ],
      "text/plain": [
       "        age  occupation                          summary\n",
       "name                                                    \n",
       "Felicia  34  Programmer  Age: 34, Occupation: Programmer"
      ]
     },
     "execution_count": 7,
     "metadata": {},
     "output_type": "execute_result"
    }
   ],
   "source": [
    "df[df.age > 30] # by creating a list, it will show only the rows that correspond to the filtering"
   ]
  },
  {
   "cell_type": "code",
   "execution_count": 8,
   "id": "dd02e63b",
   "metadata": {},
   "outputs": [
    {
     "data": {
      "text/plain": [
       "name\n",
       "Robert     False\n",
       "Felicia     True\n",
       "Diana      False\n",
       "Jim        False\n",
       "dtype: bool"
      ]
     },
     "execution_count": 8,
     "metadata": {},
     "output_type": "execute_result"
    }
   ],
   "source": [
    "(df.age > 30) & (df.occupation.notna()) # filtering using boolean and logical operators"
   ]
  },
  {
   "cell_type": "code",
   "execution_count": 9,
   "id": "2216650f",
   "metadata": {},
   "outputs": [
    {
     "data": {
      "text/html": [
       "<div>\n",
       "<style scoped>\n",
       "    .dataframe tbody tr th:only-of-type {\n",
       "        vertical-align: middle;\n",
       "    }\n",
       "\n",
       "    .dataframe tbody tr th {\n",
       "        vertical-align: top;\n",
       "    }\n",
       "\n",
       "    .dataframe thead th {\n",
       "        text-align: right;\n",
       "    }\n",
       "</style>\n",
       "<table border=\"1\" class=\"dataframe\">\n",
       "  <thead>\n",
       "    <tr style=\"text-align: right;\">\n",
       "      <th></th>\n",
       "      <th>age</th>\n",
       "      <th>occupation</th>\n",
       "      <th>summary</th>\n",
       "    </tr>\n",
       "    <tr>\n",
       "      <th>name</th>\n",
       "      <th></th>\n",
       "      <th></th>\n",
       "      <th></th>\n",
       "    </tr>\n",
       "  </thead>\n",
       "  <tbody>\n",
       "    <tr>\n",
       "      <th>Felicia</th>\n",
       "      <td>34</td>\n",
       "      <td>Programmer</td>\n",
       "      <td>Age: 34, Occupation: Programmer</td>\n",
       "    </tr>\n",
       "  </tbody>\n",
       "</table>\n",
       "</div>"
      ],
      "text/plain": [
       "        age  occupation                          summary\n",
       "name                                                    \n",
       "Felicia  34  Programmer  Age: 34, Occupation: Programmer"
      ]
     },
     "execution_count": 9,
     "metadata": {},
     "output_type": "execute_result"
    }
   ],
   "source": [
    "df[(df.age > 30) & (df.occupation.notna())]"
   ]
  },
  {
   "cell_type": "code",
   "execution_count": 10,
   "id": "2e9c6437",
   "metadata": {},
   "outputs": [
    {
     "data": {
      "text/plain": [
       "name\n",
       "Robert      True\n",
       "Felicia     True\n",
       "Diana       True\n",
       "Jim        False\n",
       "dtype: bool"
      ]
     },
     "execution_count": 10,
     "metadata": {},
     "output_type": "execute_result"
    }
   ],
   "source": [
    "(df.age > 30) | (df.occupation.notna())"
   ]
  },
  {
   "cell_type": "code",
   "execution_count": 11,
   "id": "c6efa7b5",
   "metadata": {},
   "outputs": [
    {
     "data": {
      "text/html": [
       "<div>\n",
       "<style scoped>\n",
       "    .dataframe tbody tr th:only-of-type {\n",
       "        vertical-align: middle;\n",
       "    }\n",
       "\n",
       "    .dataframe tbody tr th {\n",
       "        vertical-align: top;\n",
       "    }\n",
       "\n",
       "    .dataframe thead th {\n",
       "        text-align: right;\n",
       "    }\n",
       "</style>\n",
       "<table border=\"1\" class=\"dataframe\">\n",
       "  <thead>\n",
       "    <tr style=\"text-align: right;\">\n",
       "      <th></th>\n",
       "      <th>age</th>\n",
       "      <th>occupation</th>\n",
       "      <th>summary</th>\n",
       "    </tr>\n",
       "    <tr>\n",
       "      <th>name</th>\n",
       "      <th></th>\n",
       "      <th></th>\n",
       "      <th></th>\n",
       "    </tr>\n",
       "  </thead>\n",
       "  <tbody>\n",
       "    <tr>\n",
       "      <th>Robert</th>\n",
       "      <td>22</td>\n",
       "      <td>Designer</td>\n",
       "      <td>Age: 22, Occupation: Designer</td>\n",
       "    </tr>\n",
       "    <tr>\n",
       "      <th>Felicia</th>\n",
       "      <td>34</td>\n",
       "      <td>Programmer</td>\n",
       "      <td>Age: 34, Occupation: Programmer</td>\n",
       "    </tr>\n",
       "    <tr>\n",
       "      <th>Diana</th>\n",
       "      <td>27</td>\n",
       "      <td>Data Scientist</td>\n",
       "      <td>Age: 27, Occupation: Data Scientist</td>\n",
       "    </tr>\n",
       "  </tbody>\n",
       "</table>\n",
       "</div>"
      ],
      "text/plain": [
       "        age      occupation                              summary\n",
       "name                                                            \n",
       "Robert   22        Designer        Age: 22, Occupation: Designer\n",
       "Felicia  34      Programmer      Age: 34, Occupation: Programmer\n",
       "Diana    27  Data Scientist  Age: 27, Occupation: Data Scientist"
      ]
     },
     "execution_count": 11,
     "metadata": {},
     "output_type": "execute_result"
    }
   ],
   "source": [
    "df[(df.age > 30) | (df.occupation.notna())]"
   ]
  },
  {
   "cell_type": "code",
   "execution_count": 12,
   "id": "38f7c446",
   "metadata": {},
   "outputs": [
    {
     "data": {
      "text/html": [
       "<div>\n",
       "<style scoped>\n",
       "    .dataframe tbody tr th:only-of-type {\n",
       "        vertical-align: middle;\n",
       "    }\n",
       "\n",
       "    .dataframe tbody tr th {\n",
       "        vertical-align: top;\n",
       "    }\n",
       "\n",
       "    .dataframe thead th {\n",
       "        text-align: right;\n",
       "    }\n",
       "</style>\n",
       "<table border=\"1\" class=\"dataframe\">\n",
       "  <thead>\n",
       "    <tr style=\"text-align: right;\">\n",
       "      <th></th>\n",
       "      <th>age</th>\n",
       "      <th>occupation</th>\n",
       "      <th>summary</th>\n",
       "    </tr>\n",
       "    <tr>\n",
       "      <th>name</th>\n",
       "      <th></th>\n",
       "      <th></th>\n",
       "      <th></th>\n",
       "    </tr>\n",
       "  </thead>\n",
       "  <tbody>\n",
       "    <tr>\n",
       "      <th>Jim</th>\n",
       "      <td>None</td>\n",
       "      <td>None</td>\n",
       "      <td>None</td>\n",
       "    </tr>\n",
       "  </tbody>\n",
       "</table>\n",
       "</div>"
      ],
      "text/plain": [
       "       age occupation summary\n",
       "name                         \n",
       "Jim   None       None    None"
      ]
     },
     "execution_count": 12,
     "metadata": {},
     "output_type": "execute_result"
    }
   ],
   "source": [
    "df[-df.occupation.notna()]"
   ]
  },
  {
   "cell_type": "code",
   "execution_count": 13,
   "id": "f25ee2c0",
   "metadata": {},
   "outputs": [],
   "source": [
    "df = df.reset_index()"
   ]
  },
  {
   "cell_type": "code",
   "execution_count": 14,
   "id": "8a3edeb7",
   "metadata": {},
   "outputs": [
    {
     "data": {
      "text/html": [
       "<div>\n",
       "<style scoped>\n",
       "    .dataframe tbody tr th:only-of-type {\n",
       "        vertical-align: middle;\n",
       "    }\n",
       "\n",
       "    .dataframe tbody tr th {\n",
       "        vertical-align: top;\n",
       "    }\n",
       "\n",
       "    .dataframe thead th {\n",
       "        text-align: right;\n",
       "    }\n",
       "</style>\n",
       "<table border=\"1\" class=\"dataframe\">\n",
       "  <thead>\n",
       "    <tr style=\"text-align: right;\">\n",
       "      <th></th>\n",
       "      <th>name</th>\n",
       "      <th>age</th>\n",
       "      <th>occupation</th>\n",
       "      <th>summary</th>\n",
       "    </tr>\n",
       "  </thead>\n",
       "  <tbody>\n",
       "    <tr>\n",
       "      <th>1</th>\n",
       "      <td>Felicia</td>\n",
       "      <td>34</td>\n",
       "      <td>Programmer</td>\n",
       "      <td>Age: 34, Occupation: Programmer</td>\n",
       "    </tr>\n",
       "    <tr>\n",
       "      <th>2</th>\n",
       "      <td>Diana</td>\n",
       "      <td>27</td>\n",
       "      <td>Data Scientist</td>\n",
       "      <td>Age: 27, Occupation: Data Scientist</td>\n",
       "    </tr>\n",
       "  </tbody>\n",
       "</table>\n",
       "</div>"
      ],
      "text/plain": [
       "      name age      occupation                              summary\n",
       "1  Felicia  34      Programmer      Age: 34, Occupation: Programmer\n",
       "2    Diana  27  Data Scientist  Age: 27, Occupation: Data Scientist"
      ]
     },
     "execution_count": 14,
     "metadata": {},
     "output_type": "execute_result"
    }
   ],
   "source": [
    "df[df.name.str.endswith('a') & (df.age.notna())]"
   ]
  },
  {
   "cell_type": "code",
   "execution_count": 15,
   "id": "f6f1ae1c",
   "metadata": {},
   "outputs": [
    {
     "name": "stderr",
     "output_type": "stream",
     "text": [
      "C:\\Users\\aless\\AppData\\Local\\Temp\\ipykernel_22396\\312566303.py:1: FutureWarning: Downcasting object dtype arrays on .fillna, .ffill, .bfill is deprecated and will change in a future version. Call result.infer_objects(copy=False) instead. To opt-in to the future behavior, set `pd.set_option('future.no_silent_downcasting', True)`\n",
      "  df.age = df.age.fillna(45)\n"
     ]
    }
   ],
   "source": [
    "df.age = df.age.fillna(45)"
   ]
  },
  {
   "cell_type": "code",
   "execution_count": 16,
   "id": "e0a81572",
   "metadata": {},
   "outputs": [
    {
     "data": {
      "text/html": [
       "<div>\n",
       "<style scoped>\n",
       "    .dataframe tbody tr th:only-of-type {\n",
       "        vertical-align: middle;\n",
       "    }\n",
       "\n",
       "    .dataframe tbody tr th {\n",
       "        vertical-align: top;\n",
       "    }\n",
       "\n",
       "    .dataframe thead th {\n",
       "        text-align: right;\n",
       "    }\n",
       "</style>\n",
       "<table border=\"1\" class=\"dataframe\">\n",
       "  <thead>\n",
       "    <tr style=\"text-align: right;\">\n",
       "      <th></th>\n",
       "      <th>name</th>\n",
       "      <th>age</th>\n",
       "      <th>occupation</th>\n",
       "      <th>summary</th>\n",
       "    </tr>\n",
       "  </thead>\n",
       "  <tbody>\n",
       "    <tr>\n",
       "      <th>0</th>\n",
       "      <td>Robert</td>\n",
       "      <td>22</td>\n",
       "      <td>Designer</td>\n",
       "      <td>Age: 22, Occupation: Designer</td>\n",
       "    </tr>\n",
       "    <tr>\n",
       "      <th>1</th>\n",
       "      <td>Felicia</td>\n",
       "      <td>34</td>\n",
       "      <td>Programmer</td>\n",
       "      <td>Age: 34, Occupation: Programmer</td>\n",
       "    </tr>\n",
       "    <tr>\n",
       "      <th>2</th>\n",
       "      <td>Diana</td>\n",
       "      <td>27</td>\n",
       "      <td>Data Scientist</td>\n",
       "      <td>Age: 27, Occupation: Data Scientist</td>\n",
       "    </tr>\n",
       "    <tr>\n",
       "      <th>3</th>\n",
       "      <td>Jim</td>\n",
       "      <td>45</td>\n",
       "      <td>None</td>\n",
       "      <td>None</td>\n",
       "    </tr>\n",
       "  </tbody>\n",
       "</table>\n",
       "</div>"
      ],
      "text/plain": [
       "      name  age      occupation                              summary\n",
       "0   Robert   22        Designer        Age: 22, Occupation: Designer\n",
       "1  Felicia   34      Programmer      Age: 34, Occupation: Programmer\n",
       "2    Diana   27  Data Scientist  Age: 27, Occupation: Data Scientist\n",
       "3      Jim   45            None                                 None"
      ]
     },
     "execution_count": 16,
     "metadata": {},
     "output_type": "execute_result"
    }
   ],
   "source": [
    "df"
   ]
  },
  {
   "cell_type": "code",
   "execution_count": 17,
   "id": "f2971bf9",
   "metadata": {},
   "outputs": [],
   "source": [
    "import datetime as dt\n",
    "\n",
    "df['birthday'] = df['age'].apply(lambda x: dt.datetime.now() - dt.timedelta(days=365*x))\n",
    "# this lambda expression will create a birthday date for each person on the data frame based on their age"
   ]
  },
  {
   "cell_type": "code",
   "execution_count": 18,
   "id": "bfd38a5e",
   "metadata": {},
   "outputs": [
    {
     "data": {
      "text/html": [
       "<div>\n",
       "<style scoped>\n",
       "    .dataframe tbody tr th:only-of-type {\n",
       "        vertical-align: middle;\n",
       "    }\n",
       "\n",
       "    .dataframe tbody tr th {\n",
       "        vertical-align: top;\n",
       "    }\n",
       "\n",
       "    .dataframe thead th {\n",
       "        text-align: right;\n",
       "    }\n",
       "</style>\n",
       "<table border=\"1\" class=\"dataframe\">\n",
       "  <thead>\n",
       "    <tr style=\"text-align: right;\">\n",
       "      <th></th>\n",
       "      <th>name</th>\n",
       "      <th>age</th>\n",
       "      <th>occupation</th>\n",
       "      <th>summary</th>\n",
       "      <th>birthday</th>\n",
       "    </tr>\n",
       "  </thead>\n",
       "  <tbody>\n",
       "    <tr>\n",
       "      <th>0</th>\n",
       "      <td>Robert</td>\n",
       "      <td>22</td>\n",
       "      <td>Designer</td>\n",
       "      <td>Age: 22, Occupation: Designer</td>\n",
       "      <td>2003-07-16 13:29:45.568518</td>\n",
       "    </tr>\n",
       "    <tr>\n",
       "      <th>1</th>\n",
       "      <td>Felicia</td>\n",
       "      <td>34</td>\n",
       "      <td>Programmer</td>\n",
       "      <td>Age: 34, Occupation: Programmer</td>\n",
       "      <td>1991-07-19 13:29:45.568528</td>\n",
       "    </tr>\n",
       "    <tr>\n",
       "      <th>2</th>\n",
       "      <td>Diana</td>\n",
       "      <td>27</td>\n",
       "      <td>Data Scientist</td>\n",
       "      <td>Age: 27, Occupation: Data Scientist</td>\n",
       "      <td>1998-07-17 13:29:45.568531</td>\n",
       "    </tr>\n",
       "    <tr>\n",
       "      <th>3</th>\n",
       "      <td>Jim</td>\n",
       "      <td>45</td>\n",
       "      <td>None</td>\n",
       "      <td>None</td>\n",
       "      <td>1980-07-21 13:29:45.568533</td>\n",
       "    </tr>\n",
       "  </tbody>\n",
       "</table>\n",
       "</div>"
      ],
      "text/plain": [
       "      name  age      occupation                              summary  \\\n",
       "0   Robert   22        Designer        Age: 22, Occupation: Designer   \n",
       "1  Felicia   34      Programmer      Age: 34, Occupation: Programmer   \n",
       "2    Diana   27  Data Scientist  Age: 27, Occupation: Data Scientist   \n",
       "3      Jim   45            None                                 None   \n",
       "\n",
       "                    birthday  \n",
       "0 2003-07-16 13:29:45.568518  \n",
       "1 1991-07-19 13:29:45.568528  \n",
       "2 1998-07-17 13:29:45.568531  \n",
       "3 1980-07-21 13:29:45.568533  "
      ]
     },
     "execution_count": 18,
     "metadata": {},
     "output_type": "execute_result"
    }
   ],
   "source": [
    "df"
   ]
  },
  {
   "cell_type": "code",
   "execution_count": 19,
   "id": "7d6ec85b",
   "metadata": {},
   "outputs": [
    {
     "data": {
      "text/html": [
       "<div>\n",
       "<style scoped>\n",
       "    .dataframe tbody tr th:only-of-type {\n",
       "        vertical-align: middle;\n",
       "    }\n",
       "\n",
       "    .dataframe tbody tr th {\n",
       "        vertical-align: top;\n",
       "    }\n",
       "\n",
       "    .dataframe thead th {\n",
       "        text-align: right;\n",
       "    }\n",
       "</style>\n",
       "<table border=\"1\" class=\"dataframe\">\n",
       "  <thead>\n",
       "    <tr style=\"text-align: right;\">\n",
       "      <th></th>\n",
       "      <th>name</th>\n",
       "      <th>age</th>\n",
       "      <th>occupation</th>\n",
       "      <th>summary</th>\n",
       "      <th>birthday</th>\n",
       "    </tr>\n",
       "  </thead>\n",
       "  <tbody>\n",
       "    <tr>\n",
       "      <th>0</th>\n",
       "      <td>Robert</td>\n",
       "      <td>22</td>\n",
       "      <td>Designer</td>\n",
       "      <td>Age: 22, Occupation: Designer</td>\n",
       "      <td>2003-07-16 13:29:45.568518</td>\n",
       "    </tr>\n",
       "    <tr>\n",
       "      <th>1</th>\n",
       "      <td>Felicia</td>\n",
       "      <td>34</td>\n",
       "      <td>Programmer</td>\n",
       "      <td>Age: 34, Occupation: Programmer</td>\n",
       "      <td>1991-07-19 13:29:45.568528</td>\n",
       "    </tr>\n",
       "    <tr>\n",
       "      <th>2</th>\n",
       "      <td>Diana</td>\n",
       "      <td>27</td>\n",
       "      <td>Data Scientist</td>\n",
       "      <td>Age: 27, Occupation: Data Scientist</td>\n",
       "      <td>1998-07-17 13:29:45.568531</td>\n",
       "    </tr>\n",
       "  </tbody>\n",
       "</table>\n",
       "</div>"
      ],
      "text/plain": [
       "      name  age      occupation                              summary  \\\n",
       "0   Robert   22        Designer        Age: 22, Occupation: Designer   \n",
       "1  Felicia   34      Programmer      Age: 34, Occupation: Programmer   \n",
       "2    Diana   27  Data Scientist  Age: 27, Occupation: Data Scientist   \n",
       "\n",
       "                    birthday  \n",
       "0 2003-07-16 13:29:45.568518  \n",
       "1 1991-07-19 13:29:45.568528  \n",
       "2 1998-07-17 13:29:45.568531  "
      ]
     },
     "execution_count": 19,
     "metadata": {},
     "output_type": "execute_result"
    }
   ],
   "source": [
    "df[df.birthday.dt.year > 1990] # by adding a birthday, you can also filter data base in the year they were born"
   ]
  },
  {
   "cell_type": "code",
   "execution_count": 20,
   "id": "d18b850b",
   "metadata": {},
   "outputs": [
    {
     "data": {
      "text/html": [
       "<div>\n",
       "<style scoped>\n",
       "    .dataframe tbody tr th:only-of-type {\n",
       "        vertical-align: middle;\n",
       "    }\n",
       "\n",
       "    .dataframe tbody tr th {\n",
       "        vertical-align: top;\n",
       "    }\n",
       "\n",
       "    .dataframe thead th {\n",
       "        text-align: right;\n",
       "    }\n",
       "</style>\n",
       "<table border=\"1\" class=\"dataframe\">\n",
       "  <thead>\n",
       "    <tr style=\"text-align: right;\">\n",
       "      <th></th>\n",
       "      <th>name</th>\n",
       "      <th>age</th>\n",
       "      <th>occupation</th>\n",
       "      <th>summary</th>\n",
       "      <th>birthday</th>\n",
       "    </tr>\n",
       "  </thead>\n",
       "  <tbody>\n",
       "    <tr>\n",
       "      <th>0</th>\n",
       "      <td>Robert</td>\n",
       "      <td>22</td>\n",
       "      <td>Designer</td>\n",
       "      <td>Age: 22, Occupation: Designer</td>\n",
       "      <td>2003-07-16 13:29:45.568518</td>\n",
       "    </tr>\n",
       "    <tr>\n",
       "      <th>3</th>\n",
       "      <td>Jim</td>\n",
       "      <td>45</td>\n",
       "      <td>None</td>\n",
       "      <td>None</td>\n",
       "      <td>1980-07-21 13:29:45.568533</td>\n",
       "    </tr>\n",
       "  </tbody>\n",
       "</table>\n",
       "</div>"
      ],
      "text/plain": [
       "     name  age occupation                        summary  \\\n",
       "0  Robert   22   Designer  Age: 22, Occupation: Designer   \n",
       "3     Jim   45       None                           None   \n",
       "\n",
       "                    birthday  \n",
       "0 2003-07-16 13:29:45.568518  \n",
       "3 1980-07-21 13:29:45.568533  "
      ]
     },
     "execution_count": 20,
     "metadata": {},
     "output_type": "execute_result"
    }
   ],
   "source": [
    "ages = [22,45]\n",
    "\n",
    "df[df.age.isin(ages)] # you can also create a list and use it as a filter"
   ]
  },
  {
   "cell_type": "code",
   "execution_count": 21,
   "id": "1ac9f48c",
   "metadata": {},
   "outputs": [
    {
     "data": {
      "text/html": [
       "<div>\n",
       "<style scoped>\n",
       "    .dataframe tbody tr th:only-of-type {\n",
       "        vertical-align: middle;\n",
       "    }\n",
       "\n",
       "    .dataframe tbody tr th {\n",
       "        vertical-align: top;\n",
       "    }\n",
       "\n",
       "    .dataframe thead th {\n",
       "        text-align: right;\n",
       "    }\n",
       "</style>\n",
       "<table border=\"1\" class=\"dataframe\">\n",
       "  <thead>\n",
       "    <tr style=\"text-align: right;\">\n",
       "      <th></th>\n",
       "      <th>name</th>\n",
       "      <th>age</th>\n",
       "      <th>occupation</th>\n",
       "      <th>summary</th>\n",
       "      <th>birthday</th>\n",
       "    </tr>\n",
       "  </thead>\n",
       "  <tbody>\n",
       "    <tr>\n",
       "      <th>1</th>\n",
       "      <td>Felicia</td>\n",
       "      <td>34</td>\n",
       "      <td>Programmer</td>\n",
       "      <td>Age: 34, Occupation: Programmer</td>\n",
       "      <td>1991-07-19 13:29:45.568528</td>\n",
       "    </tr>\n",
       "    <tr>\n",
       "      <th>2</th>\n",
       "      <td>Diana</td>\n",
       "      <td>27</td>\n",
       "      <td>Data Scientist</td>\n",
       "      <td>Age: 27, Occupation: Data Scientist</td>\n",
       "      <td>1998-07-17 13:29:45.568531</td>\n",
       "    </tr>\n",
       "    <tr>\n",
       "      <th>3</th>\n",
       "      <td>Jim</td>\n",
       "      <td>45</td>\n",
       "      <td>None</td>\n",
       "      <td>None</td>\n",
       "      <td>1980-07-21 13:29:45.568533</td>\n",
       "    </tr>\n",
       "  </tbody>\n",
       "</table>\n",
       "</div>"
      ],
      "text/plain": [
       "      name  age      occupation                              summary  \\\n",
       "1  Felicia   34      Programmer      Age: 34, Occupation: Programmer   \n",
       "2    Diana   27  Data Scientist  Age: 27, Occupation: Data Scientist   \n",
       "3      Jim   45            None                                 None   \n",
       "\n",
       "                    birthday  \n",
       "1 1991-07-19 13:29:45.568528  \n",
       "2 1998-07-17 13:29:45.568531  \n",
       "3 1980-07-21 13:29:45.568533  "
      ]
     },
     "execution_count": 21,
     "metadata": {},
     "output_type": "execute_result"
    }
   ],
   "source": [
    "df.query('age > 25') # or, instead of using the previous syntax, you can also use the query function"
   ]
  },
  {
   "cell_type": "code",
   "execution_count": 22,
   "id": "34006f5d",
   "metadata": {},
   "outputs": [],
   "source": [
    "df.occupation = df.occupation.fillna('Unemployed')"
   ]
  },
  {
   "cell_type": "code",
   "execution_count": 24,
   "id": "dcb2d3d6",
   "metadata": {},
   "outputs": [
    {
     "data": {
      "text/html": [
       "<div>\n",
       "<style scoped>\n",
       "    .dataframe tbody tr th:only-of-type {\n",
       "        vertical-align: middle;\n",
       "    }\n",
       "\n",
       "    .dataframe tbody tr th {\n",
       "        vertical-align: top;\n",
       "    }\n",
       "\n",
       "    .dataframe thead th {\n",
       "        text-align: right;\n",
       "    }\n",
       "</style>\n",
       "<table border=\"1\" class=\"dataframe\">\n",
       "  <thead>\n",
       "    <tr style=\"text-align: right;\">\n",
       "      <th></th>\n",
       "      <th>name</th>\n",
       "      <th>age</th>\n",
       "      <th>occupation</th>\n",
       "      <th>summary</th>\n",
       "      <th>birthday</th>\n",
       "    </tr>\n",
       "  </thead>\n",
       "  <tbody>\n",
       "    <tr>\n",
       "      <th>0</th>\n",
       "      <td>Robert</td>\n",
       "      <td>22</td>\n",
       "      <td>Designer</td>\n",
       "      <td>Age: 22, Occupation: Designer</td>\n",
       "      <td>2003-07-16 13:29:45.568518</td>\n",
       "    </tr>\n",
       "    <tr>\n",
       "      <th>1</th>\n",
       "      <td>Felicia</td>\n",
       "      <td>34</td>\n",
       "      <td>Programmer</td>\n",
       "      <td>Age: 34, Occupation: Programmer</td>\n",
       "      <td>1991-07-19 13:29:45.568528</td>\n",
       "    </tr>\n",
       "    <tr>\n",
       "      <th>2</th>\n",
       "      <td>Diana</td>\n",
       "      <td>27</td>\n",
       "      <td>Data Scientist</td>\n",
       "      <td>Age: 27, Occupation: Data Scientist</td>\n",
       "      <td>1998-07-17 13:29:45.568531</td>\n",
       "    </tr>\n",
       "    <tr>\n",
       "      <th>3</th>\n",
       "      <td>Jim</td>\n",
       "      <td>45</td>\n",
       "      <td>Unemployed</td>\n",
       "      <td>None</td>\n",
       "      <td>1980-07-21 13:29:45.568533</td>\n",
       "    </tr>\n",
       "  </tbody>\n",
       "</table>\n",
       "</div>"
      ],
      "text/plain": [
       "      name  age      occupation                              summary  \\\n",
       "0   Robert   22        Designer        Age: 22, Occupation: Designer   \n",
       "1  Felicia   34      Programmer      Age: 34, Occupation: Programmer   \n",
       "2    Diana   27  Data Scientist  Age: 27, Occupation: Data Scientist   \n",
       "3      Jim   45      Unemployed                                 None   \n",
       "\n",
       "                    birthday  \n",
       "0 2003-07-16 13:29:45.568518  \n",
       "1 1991-07-19 13:29:45.568528  \n",
       "2 1998-07-17 13:29:45.568531  \n",
       "3 1980-07-21 13:29:45.568533  "
      ]
     },
     "execution_count": 24,
     "metadata": {},
     "output_type": "execute_result"
    }
   ],
   "source": [
    "df"
   ]
  },
  {
   "cell_type": "code",
   "execution_count": 25,
   "id": "8e2c0c8f",
   "metadata": {},
   "outputs": [
    {
     "data": {
      "text/html": [
       "<div>\n",
       "<style scoped>\n",
       "    .dataframe tbody tr th:only-of-type {\n",
       "        vertical-align: middle;\n",
       "    }\n",
       "\n",
       "    .dataframe tbody tr th {\n",
       "        vertical-align: top;\n",
       "    }\n",
       "\n",
       "    .dataframe thead th {\n",
       "        text-align: right;\n",
       "    }\n",
       "</style>\n",
       "<table border=\"1\" class=\"dataframe\">\n",
       "  <thead>\n",
       "    <tr style=\"text-align: right;\">\n",
       "      <th></th>\n",
       "      <th>name</th>\n",
       "      <th>age</th>\n",
       "      <th>occupation</th>\n",
       "      <th>summary</th>\n",
       "      <th>birthday</th>\n",
       "    </tr>\n",
       "  </thead>\n",
       "  <tbody>\n",
       "    <tr>\n",
       "      <th>0</th>\n",
       "      <td>Robert</td>\n",
       "      <td>22</td>\n",
       "      <td>Designer</td>\n",
       "      <td>Age: 22, Occupation: Designer</td>\n",
       "      <td>2003-07-16 13:29:45.568518</td>\n",
       "    </tr>\n",
       "    <tr>\n",
       "      <th>2</th>\n",
       "      <td>Diana</td>\n",
       "      <td>27</td>\n",
       "      <td>Data Scientist</td>\n",
       "      <td>Age: 27, Occupation: Data Scientist</td>\n",
       "      <td>1998-07-17 13:29:45.568531</td>\n",
       "    </tr>\n",
       "    <tr>\n",
       "      <th>1</th>\n",
       "      <td>Felicia</td>\n",
       "      <td>34</td>\n",
       "      <td>Programmer</td>\n",
       "      <td>Age: 34, Occupation: Programmer</td>\n",
       "      <td>1991-07-19 13:29:45.568528</td>\n",
       "    </tr>\n",
       "    <tr>\n",
       "      <th>3</th>\n",
       "      <td>Jim</td>\n",
       "      <td>45</td>\n",
       "      <td>Unemployed</td>\n",
       "      <td>None</td>\n",
       "      <td>1980-07-21 13:29:45.568533</td>\n",
       "    </tr>\n",
       "  </tbody>\n",
       "</table>\n",
       "</div>"
      ],
      "text/plain": [
       "      name  age      occupation                              summary  \\\n",
       "0   Robert   22        Designer        Age: 22, Occupation: Designer   \n",
       "2    Diana   27  Data Scientist  Age: 27, Occupation: Data Scientist   \n",
       "1  Felicia   34      Programmer      Age: 34, Occupation: Programmer   \n",
       "3      Jim   45      Unemployed                                 None   \n",
       "\n",
       "                    birthday  \n",
       "0 2003-07-16 13:29:45.568518  \n",
       "2 1998-07-17 13:29:45.568531  \n",
       "1 1991-07-19 13:29:45.568528  \n",
       "3 1980-07-21 13:29:45.568533  "
      ]
     },
     "execution_count": 25,
     "metadata": {},
     "output_type": "execute_result"
    }
   ],
   "source": [
    "# Sorting data\n",
    "\n",
    "df.sort_values('age')"
   ]
  },
  {
   "cell_type": "code",
   "execution_count": 26,
   "id": "3d8ee753",
   "metadata": {},
   "outputs": [
    {
     "data": {
      "text/html": [
       "<div>\n",
       "<style scoped>\n",
       "    .dataframe tbody tr th:only-of-type {\n",
       "        vertical-align: middle;\n",
       "    }\n",
       "\n",
       "    .dataframe tbody tr th {\n",
       "        vertical-align: top;\n",
       "    }\n",
       "\n",
       "    .dataframe thead th {\n",
       "        text-align: right;\n",
       "    }\n",
       "</style>\n",
       "<table border=\"1\" class=\"dataframe\">\n",
       "  <thead>\n",
       "    <tr style=\"text-align: right;\">\n",
       "      <th></th>\n",
       "      <th>name</th>\n",
       "      <th>age</th>\n",
       "      <th>occupation</th>\n",
       "      <th>summary</th>\n",
       "      <th>birthday</th>\n",
       "    </tr>\n",
       "  </thead>\n",
       "  <tbody>\n",
       "    <tr>\n",
       "      <th>3</th>\n",
       "      <td>Jim</td>\n",
       "      <td>45</td>\n",
       "      <td>Unemployed</td>\n",
       "      <td>None</td>\n",
       "      <td>1980-07-21 13:29:45.568533</td>\n",
       "    </tr>\n",
       "    <tr>\n",
       "      <th>1</th>\n",
       "      <td>Felicia</td>\n",
       "      <td>34</td>\n",
       "      <td>Programmer</td>\n",
       "      <td>Age: 34, Occupation: Programmer</td>\n",
       "      <td>1991-07-19 13:29:45.568528</td>\n",
       "    </tr>\n",
       "    <tr>\n",
       "      <th>2</th>\n",
       "      <td>Diana</td>\n",
       "      <td>27</td>\n",
       "      <td>Data Scientist</td>\n",
       "      <td>Age: 27, Occupation: Data Scientist</td>\n",
       "      <td>1998-07-17 13:29:45.568531</td>\n",
       "    </tr>\n",
       "    <tr>\n",
       "      <th>0</th>\n",
       "      <td>Robert</td>\n",
       "      <td>22</td>\n",
       "      <td>Designer</td>\n",
       "      <td>Age: 22, Occupation: Designer</td>\n",
       "      <td>2003-07-16 13:29:45.568518</td>\n",
       "    </tr>\n",
       "  </tbody>\n",
       "</table>\n",
       "</div>"
      ],
      "text/plain": [
       "      name  age      occupation                              summary  \\\n",
       "3      Jim   45      Unemployed                                 None   \n",
       "1  Felicia   34      Programmer      Age: 34, Occupation: Programmer   \n",
       "2    Diana   27  Data Scientist  Age: 27, Occupation: Data Scientist   \n",
       "0   Robert   22        Designer        Age: 22, Occupation: Designer   \n",
       "\n",
       "                    birthday  \n",
       "3 1980-07-21 13:29:45.568533  \n",
       "1 1991-07-19 13:29:45.568528  \n",
       "2 1998-07-17 13:29:45.568531  \n",
       "0 2003-07-16 13:29:45.568518  "
      ]
     },
     "execution_count": 26,
     "metadata": {},
     "output_type": "execute_result"
    }
   ],
   "source": [
    "df.sort_values('age', ascending=False)"
   ]
  },
  {
   "cell_type": "code",
   "execution_count": 27,
   "id": "4c49c1d0",
   "metadata": {},
   "outputs": [
    {
     "data": {
      "text/html": [
       "<div>\n",
       "<style scoped>\n",
       "    .dataframe tbody tr th:only-of-type {\n",
       "        vertical-align: middle;\n",
       "    }\n",
       "\n",
       "    .dataframe tbody tr th {\n",
       "        vertical-align: top;\n",
       "    }\n",
       "\n",
       "    .dataframe thead th {\n",
       "        text-align: right;\n",
       "    }\n",
       "</style>\n",
       "<table border=\"1\" class=\"dataframe\">\n",
       "  <thead>\n",
       "    <tr style=\"text-align: right;\">\n",
       "      <th></th>\n",
       "      <th>name</th>\n",
       "      <th>age</th>\n",
       "      <th>occupation</th>\n",
       "      <th>summary</th>\n",
       "      <th>birthday</th>\n",
       "    </tr>\n",
       "  </thead>\n",
       "  <tbody>\n",
       "    <tr>\n",
       "      <th>2</th>\n",
       "      <td>Diana</td>\n",
       "      <td>27</td>\n",
       "      <td>Data Scientist</td>\n",
       "      <td>Age: 27, Occupation: Data Scientist</td>\n",
       "      <td>1998-07-17 13:29:45.568531</td>\n",
       "    </tr>\n",
       "    <tr>\n",
       "      <th>0</th>\n",
       "      <td>Robert</td>\n",
       "      <td>22</td>\n",
       "      <td>Designer</td>\n",
       "      <td>Age: 22, Occupation: Designer</td>\n",
       "      <td>2003-07-16 13:29:45.568518</td>\n",
       "    </tr>\n",
       "    <tr>\n",
       "      <th>1</th>\n",
       "      <td>Felicia</td>\n",
       "      <td>34</td>\n",
       "      <td>Programmer</td>\n",
       "      <td>Age: 34, Occupation: Programmer</td>\n",
       "      <td>1991-07-19 13:29:45.568528</td>\n",
       "    </tr>\n",
       "    <tr>\n",
       "      <th>3</th>\n",
       "      <td>Jim</td>\n",
       "      <td>45</td>\n",
       "      <td>Unemployed</td>\n",
       "      <td>None</td>\n",
       "      <td>1980-07-21 13:29:45.568533</td>\n",
       "    </tr>\n",
       "  </tbody>\n",
       "</table>\n",
       "</div>"
      ],
      "text/plain": [
       "      name  age      occupation                              summary  \\\n",
       "2    Diana   27  Data Scientist  Age: 27, Occupation: Data Scientist   \n",
       "0   Robert   22        Designer        Age: 22, Occupation: Designer   \n",
       "1  Felicia   34      Programmer      Age: 34, Occupation: Programmer   \n",
       "3      Jim   45      Unemployed                                 None   \n",
       "\n",
       "                    birthday  \n",
       "2 1998-07-17 13:29:45.568531  \n",
       "0 2003-07-16 13:29:45.568518  \n",
       "1 1991-07-19 13:29:45.568528  \n",
       "3 1980-07-21 13:29:45.568533  "
      ]
     },
     "execution_count": 27,
     "metadata": {},
     "output_type": "execute_result"
    }
   ],
   "source": [
    "df.sort_values('occupation')"
   ]
  }
 ],
 "metadata": {
  "kernelspec": {
   "display_name": "Python 3",
   "language": "python",
   "name": "python3"
  },
  "language_info": {
   "codemirror_mode": {
    "name": "ipython",
    "version": 3
   },
   "file_extension": ".py",
   "mimetype": "text/x-python",
   "name": "python",
   "nbconvert_exporter": "python",
   "pygments_lexer": "ipython3",
   "version": "3.13.2"
  }
 },
 "nbformat": 4,
 "nbformat_minor": 5
}
