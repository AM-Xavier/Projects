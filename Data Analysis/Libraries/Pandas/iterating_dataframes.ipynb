{
 "cells": [
  {
   "cell_type": "code",
   "execution_count": 1,
   "id": "81541ad3",
   "metadata": {},
   "outputs": [],
   "source": [
    "import pandas as pd"
   ]
  },
  {
   "cell_type": "code",
   "execution_count": 17,
   "id": "71c84b32",
   "metadata": {},
   "outputs": [
    {
     "data": {
      "text/html": [
       "<div>\n",
       "<style scoped>\n",
       "    .dataframe tbody tr th:only-of-type {\n",
       "        vertical-align: middle;\n",
       "    }\n",
       "\n",
       "    .dataframe tbody tr th {\n",
       "        vertical-align: top;\n",
       "    }\n",
       "\n",
       "    .dataframe thead th {\n",
       "        text-align: right;\n",
       "    }\n",
       "</style>\n",
       "<table border=\"1\" class=\"dataframe\">\n",
       "  <thead>\n",
       "    <tr style=\"text-align: right;\">\n",
       "      <th></th>\n",
       "      <th>age</th>\n",
       "      <th>occupation</th>\n",
       "      <th>summary</th>\n",
       "    </tr>\n",
       "    <tr>\n",
       "      <th>name</th>\n",
       "      <th></th>\n",
       "      <th></th>\n",
       "      <th></th>\n",
       "    </tr>\n",
       "  </thead>\n",
       "  <tbody>\n",
       "    <tr>\n",
       "      <th>Robert</th>\n",
       "      <td>22</td>\n",
       "      <td>Designer</td>\n",
       "      <td>Age: 22, Occupation: Designer</td>\n",
       "    </tr>\n",
       "    <tr>\n",
       "      <th>Felicia</th>\n",
       "      <td>34</td>\n",
       "      <td>Programmer</td>\n",
       "      <td>Age: 34, Occupation: Programmer</td>\n",
       "    </tr>\n",
       "    <tr>\n",
       "      <th>Diana</th>\n",
       "      <td>27</td>\n",
       "      <td>Data Scientist</td>\n",
       "      <td>Age: 27, Occupation: Data Scientist</td>\n",
       "    </tr>\n",
       "  </tbody>\n",
       "</table>\n",
       "</div>"
      ],
      "text/plain": [
       "         age      occupation                              summary\n",
       "name                                                             \n",
       "Robert    22        Designer        Age: 22, Occupation: Designer\n",
       "Felicia   34      Programmer      Age: 34, Occupation: Programmer\n",
       "Diana     27  Data Scientist  Age: 27, Occupation: Data Scientist"
      ]
     },
     "execution_count": 17,
     "metadata": {},
     "output_type": "execute_result"
    }
   ],
   "source": [
    "df = pd.DataFrame({\n",
    "    'name': ['Robert', 'Felicia', 'Diana'],\n",
    "    'age': [22, 34, 27],\n",
    "    'occupation': ['Designer', 'Programmer', 'Data Scientist']\n",
    "})\n",
    "\n",
    "df = df.set_index('name')\n",
    "df['summary'] = df.apply(lambda row: f'Age: {row[\"age\"]}, Occupation: {row[\"occupation\"]}', axis=1)\n",
    "df"
   ]
  },
  {
   "cell_type": "code",
   "execution_count": 9,
   "id": "02d602b4",
   "metadata": {},
   "outputs": [
    {
     "data": {
      "text/plain": [
       "<generator object DataFrame.iterrows at 0x000002FC84A9DF10>"
      ]
     },
     "execution_count": 9,
     "metadata": {},
     "output_type": "execute_result"
    }
   ],
   "source": [
    "df.iterrows() # this is used to iterate over rows"
   ]
  },
  {
   "cell_type": "code",
   "execution_count": 10,
   "id": "791c37eb",
   "metadata": {},
   "outputs": [
    {
     "data": {
      "text/plain": [
       "<generator object DataFrame.items at 0x000002FCED81BB50>"
      ]
     },
     "execution_count": 10,
     "metadata": {},
     "output_type": "execute_result"
    }
   ],
   "source": [
    "df.items() # this is used to iterate over columns"
   ]
  },
  {
   "cell_type": "code",
   "execution_count": 13,
   "id": "5bda00e8",
   "metadata": {},
   "outputs": [
    {
     "name": "stdout",
     "output_type": "stream",
     "text": [
      "Robert\n",
      "Felicia\n",
      "Diana\n"
     ]
    }
   ],
   "source": [
    "for i, row in df.iterrows(): # this loop using df.iterrows() will print out the indexes\n",
    "    print(i)"
   ]
  },
  {
   "cell_type": "code",
   "execution_count": 20,
   "id": "3a2d620e",
   "metadata": {},
   "outputs": [
    {
     "name": "stdout",
     "output_type": "stream",
     "text": [
      "age                                      22\n",
      "occupation                         Designer\n",
      "summary       Age: 22, Occupation: Designer\n",
      "Name: Robert, dtype: object\n",
      "age                                        34\n",
      "occupation                         Programmer\n",
      "summary       Age: 34, Occupation: Programmer\n",
      "Name: Felicia, dtype: object\n",
      "age                                            27\n",
      "occupation                         Data Scientist\n",
      "summary       Age: 27, Occupation: Data Scientist\n",
      "Name: Diana, dtype: object\n"
     ]
    }
   ],
   "source": [
    "for i, row in df.iterrows(): # by printing the row you will get the Series object, wich is the row\n",
    "    print(row)"
   ]
  },
  {
   "cell_type": "code",
   "execution_count": 23,
   "id": "c71408b7",
   "metadata": {},
   "outputs": [
    {
     "name": "stdout",
     "output_type": "stream",
     "text": [
      "Age: 22, Occupation: Designer\n",
      "Age: 34, Occupation: Programmer\n",
      "Age: 27, Occupation: Data Scientist\n"
     ]
    }
   ],
   "source": [
    "for i, row in df.iterrows(): # you can also choose to print individual rows\n",
    "    print(row['summary'])"
   ]
  },
  {
   "cell_type": "code",
   "execution_count": 25,
   "id": "e11ec34f",
   "metadata": {},
   "outputs": [
    {
     "name": "stdout",
     "output_type": "stream",
     "text": [
      "age\n",
      "occupation\n",
      "summary\n"
     ]
    }
   ],
   "source": [
    "for i, column in df.items(): # this loop using df.items() will print out the columns\n",
    "    print(i)"
   ]
  },
  {
   "cell_type": "code",
   "execution_count": 24,
   "id": "1e5c23d2",
   "metadata": {},
   "outputs": [
    {
     "name": "stdout",
     "output_type": "stream",
     "text": [
      "name\n",
      "Robert     22\n",
      "Felicia    34\n",
      "Diana      27\n",
      "Name: age, dtype: int64\n",
      "name\n",
      "Robert           Designer\n",
      "Felicia        Programmer\n",
      "Diana      Data Scientist\n",
      "Name: occupation, dtype: object\n",
      "name\n",
      "Robert           Age: 22, Occupation: Designer\n",
      "Felicia        Age: 34, Occupation: Programmer\n",
      "Diana      Age: 27, Occupation: Data Scientist\n",
      "Name: summary, dtype: object\n"
     ]
    }
   ],
   "source": [
    "for i, column in df.items():\n",
    "    print(column)"
   ]
  }
 ],
 "metadata": {
  "kernelspec": {
   "display_name": "Python 3",
   "language": "python",
   "name": "python3"
  },
  "language_info": {
   "codemirror_mode": {
    "name": "ipython",
    "version": 3
   },
   "file_extension": ".py",
   "mimetype": "text/x-python",
   "name": "python",
   "nbconvert_exporter": "python",
   "pygments_lexer": "ipython3",
   "version": "3.13.2"
  }
 },
 "nbformat": 4,
 "nbformat_minor": 5
}
