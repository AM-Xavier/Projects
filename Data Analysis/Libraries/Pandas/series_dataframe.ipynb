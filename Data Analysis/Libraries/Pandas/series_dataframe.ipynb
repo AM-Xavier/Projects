{
 "cells": [
  {
   "cell_type": "code",
   "execution_count": null,
   "id": "4a4d69d6-d710-42a8-bf66-ece9aa7fe26c",
   "metadata": {},
   "outputs": [],
   "source": [
    "import pandas as pd"
   ]
  },
  {
   "cell_type": "code",
   "execution_count": null,
   "id": "cfe03471-bb52-4b76-a2fc-cafe439f0824",
   "metadata": {},
   "outputs": [],
   "source": [
    "# Series\n",
    "values = [10, 20, 30, 40, 50]\n",
    "s = pd.Series(values)\n",
    "s\n"
   ]
  },
  {
   "cell_type": "code",
   "execution_count": null,
   "id": "c363cf59",
   "metadata": {},
   "outputs": [],
   "source": [
    "d = pd.Series(values, index=['a', 'b', 'c', 'd', 'e'])\n",
    "d"
   ]
  },
  {
   "cell_type": "code",
   "execution_count": null,
   "id": "20858584",
   "metadata": {},
   "outputs": [],
   "source": [
    "d.loc['a']"
   ]
  },
  {
   "cell_type": "code",
   "execution_count": null,
   "id": "efd33295-70d9-49b9-8355-1d9e3bb20636",
   "metadata": {},
   "outputs": [],
   "source": [
    "# Data Frame\n",
    "df = pd.DataFrame({\n",
    "    'name': ['Mike', 'Bob', 'Alice'],\n",
    "    'age': [30, 80, 45],\n",
    "    'job': ['Programmer', 'Clerk', 'Designer']\n",
    "})\n",
    "\n",
    "df = df.set_index('name')"
   ]
  },
  {
   "cell_type": "code",
   "execution_count": null,
   "id": "ed7858e5",
   "metadata": {},
   "outputs": [],
   "source": [
    "df"
   ]
  },
  {
   "cell_type": "code",
   "execution_count": null,
   "id": "45900b27",
   "metadata": {},
   "outputs": [],
   "source": [
    "df.loc['Mike']"
   ]
  },
  {
   "cell_type": "code",
   "execution_count": null,
   "id": "36948431",
   "metadata": {},
   "outputs": [],
   "source": [
    "# Using sum in Data Frame\n",
    "df1 = pd.DataFrame({\n",
    "    'a': [1, 2, 3]\n",
    "})\n",
    "\n",
    "df2 = pd.DataFrame({\n",
    "    'a': [10, 20, 30]\n",
    "})"
   ]
  },
  {
   "cell_type": "code",
   "execution_count": null,
   "id": "d738bda7",
   "metadata": {},
   "outputs": [],
   "source": [
    "df1 + df2"
   ]
  },
  {
   "cell_type": "code",
   "execution_count": null,
   "id": "c33c5812",
   "metadata": {},
   "outputs": [],
   "source": [
    "df1 = pd.DataFrame({\n",
    "    'a': [1, 2, 3]\n",
    "}, index=[2, 1, 0])\n",
    "\n",
    "df2 = pd.DataFrame({\n",
    "    'a': [10, 20, 30],\n",
    "}, index=[0, 1, 2])"
   ]
  },
  {
   "cell_type": "code",
   "execution_count": null,
   "id": "3967b1d0",
   "metadata": {},
   "outputs": [],
   "source": [
    "df1 + df2 # By specifying the index, it will sum each value with its respective index"
   ]
  },
  {
   "cell_type": "code",
   "execution_count": 44,
   "id": "88145429",
   "metadata": {},
   "outputs": [],
   "source": [
    "# Exporting data\n",
    "df.to_csv('tabela.csv', index=None)\n",
    "df.to_json('tabela.json', index=None)"
   ]
  },
  {
   "cell_type": "code",
   "execution_count": 43,
   "id": "3026c0cf",
   "metadata": {},
   "outputs": [
    {
     "data": {
      "text/html": [
       "<div>\n",
       "<style scoped>\n",
       "    .dataframe tbody tr th:only-of-type {\n",
       "        vertical-align: middle;\n",
       "    }\n",
       "\n",
       "    .dataframe tbody tr th {\n",
       "        vertical-align: top;\n",
       "    }\n",
       "\n",
       "    .dataframe thead th {\n",
       "        text-align: right;\n",
       "    }\n",
       "</style>\n",
       "<table border=\"1\" class=\"dataframe\">\n",
       "  <thead>\n",
       "    <tr style=\"text-align: right;\">\n",
       "      <th></th>\n",
       "      <th>age</th>\n",
       "      <th>job</th>\n",
       "    </tr>\n",
       "    <tr>\n",
       "      <th>name</th>\n",
       "      <th></th>\n",
       "      <th></th>\n",
       "    </tr>\n",
       "  </thead>\n",
       "  <tbody>\n",
       "    <tr>\n",
       "      <th>Mike</th>\n",
       "      <td>30</td>\n",
       "      <td>Programmer</td>\n",
       "    </tr>\n",
       "    <tr>\n",
       "      <th>Bob</th>\n",
       "      <td>80</td>\n",
       "      <td>Clerk</td>\n",
       "    </tr>\n",
       "    <tr>\n",
       "      <th>Alice</th>\n",
       "      <td>45</td>\n",
       "      <td>Designer</td>\n",
       "    </tr>\n",
       "  </tbody>\n",
       "</table>\n",
       "</div>"
      ],
      "text/plain": [
       "       age         job\n",
       "name                  \n",
       "Mike    30  Programmer\n",
       "Bob     80       Clerk\n",
       "Alice   45    Designer"
      ]
     },
     "execution_count": 43,
     "metadata": {},
     "output_type": "execute_result"
    }
   ],
   "source": [
    "# Importing data\n",
    "pd.read_csv('tabela.csv', index_col=0)"
   ]
  },
  {
   "cell_type": "code",
   "execution_count": null,
   "id": "88d13867",
   "metadata": {},
   "outputs": [],
   "source": []
  }
 ],
 "metadata": {
  "kernelspec": {
   "display_name": "Python 3",
   "language": "python",
   "name": "python3"
  },
  "language_info": {
   "codemirror_mode": {
    "name": "ipython",
    "version": 3
   },
   "file_extension": ".py",
   "mimetype": "text/x-python",
   "name": "python",
   "nbconvert_exporter": "python",
   "pygments_lexer": "ipython3",
   "version": "3.13.2"
  }
 },
 "nbformat": 4,
 "nbformat_minor": 5
}
